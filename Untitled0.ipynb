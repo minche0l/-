{
  "nbformat": 4,
  "nbformat_minor": 0,
  "metadata": {
    "colab": {
      "name": "Untitled0.ipynb",
      "provenance": [],
      "authorship_tag": "ABX9TyOV/2KeLVj3pCxCZlo86mM2",
      "include_colab_link": true
    },
    "kernelspec": {
      "name": "python3",
      "display_name": "Python 3"
    },
    "language_info": {
      "name": "python"
    }
  },
  "cells": [
    {
      "cell_type": "markdown",
      "metadata": {
        "id": "view-in-github",
        "colab_type": "text"
      },
      "source": [
        "<a href=\"https://colab.research.google.com/github/minche0l/-/blob/main/Untitled0.ipynb\" target=\"_parent\"><img src=\"https://colab.research.google.com/assets/colab-badge.svg\" alt=\"Open In Colab\"/></a>"
      ]
    },
    {
      "cell_type": "code",
      "execution_count": 4,
      "metadata": {
        "id": "TL-TB6pa5fIe"
      },
      "outputs": [],
      "source": [
        "class person:\n",
        "  def __init__(self):\n",
        "    self.firstName = \"\"\n",
        "    self.lastName = \"\"\n",
        "    self.id = \"\"\n",
        "    self.email = \"\"\n",
        "    self.friend = []\n",
        "\n",
        "  def update_username(self, first, last):\n",
        "    self.firstName = first\n",
        "    self.lastName = last\n",
        "\n",
        "\n",
        "\n",
        "p = person()\n",
        "p.firstName = \"Sejin\"\n",
        "p.lastName = \"Chun\"\n",
        "p.id = \"111111\"\n",
        "p.email = \"sjchun@dau.ac.kr\"\n",
        "p.friend.append(\"Hong Gil-ding\")"
      ]
    }
  ]
}