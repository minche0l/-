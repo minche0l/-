{
  "nbformat": 4,
  "nbformat_minor": 0,
  "metadata": {
    "colab": {
      "name": "Untitled3.ipynb",
      "provenance": [],
      "authorship_tag": "ABX9TyNi385naHPEC3MKvUxAYbEa",
      "include_colab_link": true
    },
    "kernelspec": {
      "name": "python3",
      "display_name": "Python 3"
    },
    "language_info": {
      "name": "python"
    }
  },
  "cells": [
    {
      "cell_type": "markdown",
      "metadata": {
        "id": "view-in-github",
        "colab_type": "text"
      },
      "source": [
        "<a href=\"https://colab.research.google.com/github/minche0l/-/blob/main/Untitled3.ipynb\" target=\"_parent\"><img src=\"https://colab.research.google.com/assets/colab-badge.svg\" alt=\"Open In Colab\"/></a>"
      ]
    },
    {
      "cell_type": "code",
      "execution_count": 2,
      "metadata": {
        "colab": {
          "base_uri": "https://localhost:8080/"
        },
        "id": "LdtBQlIvXVDC",
        "outputId": "332393d8-2657-4187-fc70-953e60447464"
      },
      "outputs": [
        {
          "output_type": "stream",
          "name": "stdout",
          "text": [
            "Following are the prime numbers smaller\n",
            "than or equal to 100\n",
            "2\n",
            "3\n",
            "5\n",
            "7\n",
            "11\n",
            "13\n",
            "17\n",
            "19\n",
            "23\n",
            "29\n",
            "31\n",
            "37\n",
            "41\n",
            "43\n",
            "47\n",
            "53\n",
            "59\n",
            "61\n",
            "67\n",
            "71\n",
            "73\n",
            "79\n",
            "83\n",
            "89\n",
            "97\n"
          ]
        }
      ],
      "source": [
        "# https://www.geeksforgeeks.org/sieve-of-eratosthenes/\n",
        "\n",
        "def SieveOfEratosthenes(n):\n",
        "  # Create a boolean array\n",
        "  # \"prime[0..n]\" and initialize\n",
        "  # all enrties it as true.\n",
        "  # A value in prime[i] will\n",
        "  # finally be false if i is\n",
        "  # Not a prime, else true.\n",
        "  prime = [True for i in range(n+1)]\n",
        "  p = 2\n",
        "  while (p * p <=n):\n",
        "\n",
        "    # if prime[p] is not\n",
        "    # changed, then it is a prime\n",
        "    if (prime[p] == True):\n",
        "\n",
        "      # Update all multiples of p\n",
        "      for i in range(p * p, n+1, p):\n",
        "        prime[i] = False\n",
        "    p += 1\n",
        "\n",
        "  # Print all prime numbers\n",
        "  for p in range(2, n+1):\n",
        "     if prime[p]:\n",
        "       print (p)\n",
        "\n",
        "# Driver code\n",
        "if __name__ == '__main__':\n",
        "  n = 100\n",
        "  print (\"Following are the prime numbers smaller\")\n",
        "  print (\"than or equal to\", n)\n",
        "  SieveOfEratosthenes(n)             "
      ]
    }
  ]
}